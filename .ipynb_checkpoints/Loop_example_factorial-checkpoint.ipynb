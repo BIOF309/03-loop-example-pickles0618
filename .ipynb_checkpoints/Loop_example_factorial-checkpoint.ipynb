{
 "cells": [
  {
   "cell_type": "code",
   "execution_count": null,
   "metadata": {},
   "outputs": [],
   "source": [
    "'''The factorial function takes as input an integer n and outputs\n",
    "the factorial (n!) of that number'''\n",
    "def factorial(n):\n",
    "    if n == 0: # 0!=1\n",
    "        x = 1\n",
    "    else:\n",
    "        x = 1\n",
    "        for i in range(0,n):\n",
    "            x = x*(i+1)\n",
    "    return x\n",
    "\n",
    "\n",
    "'''Example usage of function to find the factorial of a user input'''\n",
    "a = int(input('Enter an integer for which you would like to know the factorial: '))\n",
    "b = factorial(a)\n",
    "print ('The factorial of ' + str(a) + ' is ' + str(b) )"
   ]
  }
 ],
 "metadata": {
  "kernelspec": {
   "display_name": "Python 3",
   "language": "python",
   "name": "python3"
  },
  "language_info": {
   "codemirror_mode": {
    "name": "ipython",
    "version": 3
   },
   "file_extension": ".py",
   "mimetype": "text/x-python",
   "name": "python",
   "nbconvert_exporter": "python",
   "pygments_lexer": "ipython3",
   "version": "3.6.1"
  }
 },
 "nbformat": 4,
 "nbformat_minor": 2
}
